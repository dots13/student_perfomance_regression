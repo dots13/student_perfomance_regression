{
 "cells": [
  {
   "cell_type": "code",
   "execution_count": 1,
   "id": "6c546275",
   "metadata": {},
   "outputs": [],
   "source": [
    "import math\n",
    "import numpy as np\n",
    "import pandas as pd\n",
    "\n",
    "from scipy.stats import lognorm\n",
    "import scipy.stats as stats\n",
    "\n",
    "import seaborn as sns\n",
    "from matplotlib import pylab\n",
    "import matplotlib.pyplot as plt\n",
    "\n",
    "pd.set_option('display.max_columns', None)"
   ]
  },
  {
   "cell_type": "code",
   "execution_count": 2,
   "id": "dce4f94c",
   "metadata": {},
   "outputs": [],
   "source": [
    "df = pd.read_csv('data/result.csv')"
   ]
  },
  {
   "cell_type": "markdown",
   "id": "ebbbee7f",
   "metadata": {},
   "source": [
    "## Check target (Test for Normality )"
   ]
  },
  {
   "cell_type": "code",
   "execution_count": 3,
   "id": "e8e7f63c",
   "metadata": {},
   "outputs": [
    {
     "data": {
      "image/png": "[encoded data removed]",
      "text/plain": [
       "<Figure size 640x480 with 1 Axes>"
      ]
     },
     "metadata": {},
     "output_type": "display_data"
    }
   ],
   "source": [
    "stats.probplot(df.Final_G, dist=\"norm\", plot=pylab)\n",
    "pylab.show()"
   ]
  },
  {
   "cell_type": "code",
   "execution_count": 4,
   "id": "579fd9a5",
   "metadata": {},
   "outputs": [],
   "source": [
    "# it looks more-or-less normal"
   ]
  },
  {
   "cell_type": "markdown",
   "id": "30143b45",
   "metadata": {},
   "source": [
    "## Point-biserial correlation"
   ]
  },
  {
   "cell_type": "code",
   "execution_count": 5,
   "id": "bfea66f6",
   "metadata": {},
   "outputs": [],
   "source": [
    "bin_features = df.columns[df.nunique() == 2]\n",
    "# Label encoding for categoricals\n",
    "for colname in bin_features:\n",
    "    df[colname], _ = df[colname].factorize()\n",
    "\n",
    "# All discrete features should now have integer dtypes\n",
    "discrete_features = df.dtypes == int"
   ]
  },
  {
   "cell_type": "code",
   "execution_count": 6,
   "id": "644fcfe0",
   "metadata": {},
   "outputs": [],
   "source": [
    "# One of the assumptions of Point-Biserial correlation is that there is similar spread between the two groups of the binary variable.\n",
    "# I test this using Levene's test of equality of variances\n",
    "\n",
    "def levene_test_bi(df, feature_list, target):\n",
    "    features_eq_var = []\n",
    "    for feat in feature_list:\n",
    "        print(feat)\n",
    "        unique_list = df[feat].unique()\n",
    "        levene_val = stats.levene(df[df[feat] == unique_list[0]][target], \n",
    "                                   df[df[feat] == unique_list[1]][target], \n",
    "                                   center='mean'\n",
    "                                  )\n",
    "        if levene_val.pvalue > .05:\n",
    "            features_eq_var.append(feat)\n",
    "        print(levene_val)\n",
    "    return features_eq_var\n",
    "    "
   ]
  },
  {
   "cell_type": "code",
   "execution_count": 17,
   "id": "a898d897",
   "metadata": {},
   "outputs": [
    {
     "data": {
      "text/plain": [
       "['school',\n",
       " 'sex',\n",
       " 'address',\n",
       " 'famsize',\n",
       " 'Pstatus',\n",
       " 'famsup',\n",
       " 'paid',\n",
       " 'activities',\n",
       " 'nursery',\n",
       " 'internet',\n",
       " 'romantic']"
      ]
     },
     "execution_count": 17,
     "metadata": {},
     "output_type": "execute_result"
    }
   ],
   "source": [
    "bin_features_eq_var"
   ]
  },
  {
   "cell_type": "code",
   "execution_count": 7,
   "id": "119dc880",
   "metadata": {},
   "outputs": [
    {
     "name": "stdout",
     "output_type": "stream",
     "text": [
      "school\n",
      "LeveneResult(statistic=0.12630589905915213, pvalue=0.7223653129682932)\n",
      "sex\n",
      "LeveneResult(statistic=0.15284960444083742, pvalue=0.6959068356740932)\n",
      "address\n",
      "LeveneResult(statistic=0.0011083814389660006, pvalue=0.9734478197243)\n",
      "famsize\n",
      "LeveneResult(statistic=2.3111792383314973, pvalue=0.12874993710922192)\n",
      "Pstatus\n",
      "LeveneResult(statistic=0.04090035909701647, pvalue=0.8397698538909533)\n",
      "schoolsup\n",
      "LeveneResult(statistic=16.581877144150845, pvalue=5.0123312492356774e-05)\n",
      "famsup\n",
      "LeveneResult(statistic=0.6841414275997583, pvalue=0.40835364725196943)\n",
      "paid\n",
      "LeveneResult(statistic=1.2460099156670341, pvalue=0.26457327193380487)\n",
      "activities\n",
      "LeveneResult(statistic=0.013748064983082472, pvalue=0.9066828435591937)\n",
      "nursery\n",
      "LeveneResult(statistic=3.0717124069598216, pvalue=0.07995960168812606)\n",
      "higher\n",
      "LeveneResult(statistic=6.925834974643431, pvalue=0.00862145619626345)\n",
      "internet\n",
      "LeveneResult(statistic=0.15583834424984166, pvalue=0.6930981072928768)\n",
      "romantic\n",
      "LeveneResult(statistic=0.34885987058854406, pvalue=0.5548873199632312)\n",
      "Subject\n",
      "LeveneResult(statistic=38.8404666503208, pvalue=6.666668802708003e-10)\n",
      "Number of features: 11\n"
     ]
    }
   ],
   "source": [
    "bin_features_eq_var = levene_test_bi(df, bin_features, 'Final_G')\n",
    "print('Number of features:', len(bin_features_eq_var))"
   ]
  },
  {
   "cell_type": "code",
   "execution_count": 8,
   "id": "aa361c18",
   "metadata": {},
   "outputs": [],
   "source": [
    "def point_biserial_corr(df, feature_list, target):\n",
    "    corr_point_bi = {}\n",
    "    for feat in feature_list:\n",
    "        print(feat)\n",
    "        point_bi = stats.pointbiserialr(df[feat], df[target])\n",
    "        print(point_bi)\n",
    "        corr_point_bi[feat] = point_bi.correlation\n",
    "    return pd.Series(corr_point_bi).sort_values()"
   ]
  },
  {
   "cell_type": "code",
   "execution_count": 9,
   "id": "1edb4564",
   "metadata": {},
   "outputs": [
    {
     "name": "stdout",
     "output_type": "stream",
     "text": [
      "school\n",
      "PointbiserialrResult(correlation=-0.14532920593679505, pvalue=2.4152228329779033e-06)\n",
      "sex\n",
      "PointbiserialrResult(correlation=-0.02539607454691607, pvalue=0.412374912690816)\n",
      "address\n",
      "PointbiserialrResult(correlation=-0.12174346745093785, pvalue=8.02618760071555e-05)\n",
      "famsize\n",
      "PointbiserialrResult(correlation=0.06792291351579245, pvalue=0.02819502238528381)\n",
      "Pstatus\n",
      "PointbiserialrResult(correlation=-0.01871105975511521, pvalue=0.5459091682999622)\n",
      "famsup\n",
      "PointbiserialrResult(correlation=0.0010631939410721317, pvalue=0.9726285924772893)\n",
      "paid\n",
      "PointbiserialrResult(correlation=-0.04110095684864311, pvalue=0.18451451680531314)\n",
      "activities\n",
      "PointbiserialrResult(correlation=0.05021891893228049, pvalue=0.10486709401407092)\n",
      "nursery\n",
      "PointbiserialrResult(correlation=-0.05008172318811773, pvalue=0.10582079626352311)\n",
      "internet\n",
      "PointbiserialrResult(correlation=0.11486341138658661, pvalue=0.00019983870610560103)\n",
      "romantic\n",
      "PointbiserialrResult(correlation=-0.09176590471597157, pvalue=0.0029997959080151205)\n"
     ]
    }
   ],
   "source": [
    "point_biserial_corr = point_biserial_corr(df, bin_features_eq_var, 'Final_G')"
   ]
  },
  {
   "cell_type": "code",
   "execution_count": 10,
   "id": "3f8d2f0e",
   "metadata": {},
   "outputs": [
    {
     "data": {
      "text/plain": [
       "school       -0.145329\n",
       "address      -0.121743\n",
       "romantic     -0.091766\n",
       "nursery      -0.050082\n",
       "paid         -0.041101\n",
       "sex          -0.025396\n",
       "Pstatus      -0.018711\n",
       "famsup        0.001063\n",
       "activities    0.050219\n",
       "famsize       0.067923\n",
       "internet      0.114863\n",
       "dtype: float64"
      ]
     },
     "execution_count": 10,
     "metadata": {},
     "output_type": "execute_result"
    }
   ],
   "source": [
    "point_biserial_corr"
   ]
  },
  {
   "cell_type": "code",
   "execution_count": 11,
   "id": "5d4cd2a2",
   "metadata": {},
   "outputs": [
    {
     "data": {
      "image/png": "[encoded data removed]",
      "text/plain": [
       "<Figure size 640x480 with 2 Axes>"
      ]
     },
     "metadata": {},
     "output_type": "display_data"
    }
   ],
   "source": [
    "sns.heatmap(pd.DataFrame(point_biserial_corr), annot=True, fmt=\".2f\", cmap=\"crest\")\n",
    "plt.show()"
   ]
  },
  {
   "cell_type": "markdown",
   "id": "9ebd25da",
   "metadata": {},
   "source": [
    "## ANOVA"
   ]
  },
  {
   "cell_type": "code",
   "execution_count": 12,
   "id": "b1f7d105",
   "metadata": {},
   "outputs": [],
   "source": [
    "anova_feat = ['Medu', 'Fedu', 'Mjob', 'Fjob', 'guardian']\n",
    "# For ANOVA the data should be distributed with equal variance."
   ]
  },
  {
   "cell_type": "code",
   "execution_count": 13,
   "id": "7386616b",
   "metadata": {},
   "outputs": [
    {
     "name": "stdout",
     "output_type": "stream",
     "text": [
      "Medu\n",
      "Medu\n",
      "0     5.777778\n",
      "1     9.314024\n",
      "2     9.053201\n",
      "3    11.732653\n",
      "4    10.647080\n",
      "Name: Final_G, dtype: float64\n",
      "\n",
      "\n",
      "Fedu\n",
      "Fedu\n",
      "0     6.361111\n",
      "1    10.495695\n",
      "2    11.062225\n",
      "3     8.942217\n",
      "4    10.876041\n",
      "Name: Final_G, dtype: float64\n",
      "\n",
      "\n",
      "Mjob\n",
      "Mjob\n",
      "at_home     10.111346\n",
      "health       9.067901\n",
      "other       10.124810\n",
      "services    11.056503\n",
      "teacher     11.457603\n",
      "Name: Final_G, dtype: float64\n",
      "\n",
      "\n",
      "Fjob\n",
      "Fjob\n",
      "at_home     11.601534\n",
      "health       9.000000\n",
      "other       10.393841\n",
      "services    10.177976\n",
      "teacher     14.578365\n",
      "Name: Final_G, dtype: float64\n",
      "\n",
      "\n",
      "guardian\n",
      "guardian\n",
      "father     9.592321\n",
      "mother    11.191180\n",
      "other      9.296423\n",
      "Name: Final_G, dtype: float64\n",
      "\n",
      "\n"
     ]
    }
   ],
   "source": [
    "for feat in anova_feat:\n",
    "    print(feat)\n",
    "    print(df.groupby(feat)['Final_G'].var())\n",
    "    print('\\n')"
   ]
  },
  {
   "cell_type": "code",
   "execution_count": 14,
   "id": "aa2c5658",
   "metadata": {},
   "outputs": [
    {
     "data": {
      "text/plain": [
       "F_onewayResult(statistic=9.972441004595417, pvalue=6.392921956303362e-08)"
      ]
     },
     "execution_count": 14,
     "metadata": {},
     "output_type": "execute_result"
    }
   ],
   "source": [
    "stats.f_oneway(df['Final_G'][df['Mjob'] == 'at_home'],\n",
    "               df['Final_G'][df['Mjob'] == 'health'],\n",
    "               df['Final_G'][df['Mjob'] == 'other'],\n",
    "               df['Final_G'][df['Mjob'] == 'services'],\n",
    "               df['Final_G'][df['Mjob'] == 'teacher'])"
   ]
  },
  {
   "cell_type": "markdown",
   "id": "9aee4ae3",
   "metadata": {},
   "source": [
    "There is a statistically significant difference between the groups (the mother job effects the grade)"
   ]
  },
  {
   "cell_type": "code",
   "execution_count": 15,
   "id": "07e1cf36",
   "metadata": {},
   "outputs": [
    {
     "data": {
      "text/plain": [
       "F_onewayResult(statistic=5.1524477617710005, pvalue=0.0004110994325748312)"
      ]
     },
     "execution_count": 15,
     "metadata": {},
     "output_type": "execute_result"
    }
   ],
   "source": [
    "stats.f_oneway(df['Final_G'][df['Fjob'] == 'at_home'],\n",
    "               df['Final_G'][df['Fjob'] == 'health'],\n",
    "               df['Final_G'][df['Fjob'] == 'other'],\n",
    "               df['Final_G'][df['Fjob'] == 'services'],\n",
    "               df['Final_G'][df['Fjob'] == 'teacher'])"
   ]
  },
  {
   "cell_type": "markdown",
   "id": "fe9e7b4f",
   "metadata": {},
   "source": [
    "There is a statistically significant difference between the groups (the father job effects the grade)"
   ]
  },
  {
   "cell_type": "code",
   "execution_count": 16,
   "id": "fc076573",
   "metadata": {},
   "outputs": [
    {
     "data": {
      "text/plain": [
       "F_onewayResult(statistic=5.336346744302782, pvalue=0.004945994374257675)"
      ]
     },
     "execution_count": 16,
     "metadata": {},
     "output_type": "execute_result"
    }
   ],
   "source": [
    "stats.f_oneway(df['Final_G'][df['guardian'] == 'father'],\n",
    "               df['Final_G'][df['guardian'] == 'mother'],\n",
    "               df['Final_G'][df['guardian'] == 'other'])"
   ]
  },
  {
   "cell_type": "markdown",
   "id": "3ab032c0",
   "metadata": {},
   "source": [
    "There is a statistically significant difference between the groups (the guardian effects the grade)"
   ]
  },
  {
   "cell_type": "code",
   "execution_count": null,
   "id": "3f375b78",
   "metadata": {},
   "outputs": [],
   "source": []
  }
 ],
 "metadata": {
  "kernelspec": {
   "display_name": "Python 3 (ipykernel)",
   "language": "python",
   "name": "python3"
  },
  "language_info": {
   "codemirror_mode": {
    "name": "ipython",
    "version": 3
   },
   "file_extension": ".py",
   "mimetype": "text/x-python",
   "name": "python",
   "nbconvert_exporter": "python",
   "pygments_lexer": "ipython3",
   "version": "3.11.4"
  },
  "toc": {
   "base_numbering": 1,
   "nav_menu": {},
   "number_sections": true,
   "sideBar": true,
   "skip_h1_title": false,
   "title_cell": "Table of Contents",
   "title_sidebar": "Contents",
   "toc_cell": false,
   "toc_position": {},
   "toc_section_display": true,
   "toc_window_display": false
  },
  "varInspector": {
   "cols": {
    "lenName": 16,
    "lenType": 16,
    "lenVar": 40
   },
   "kernels_config": {
    "python": {
     "delete_cmd_postfix": "",
     "delete_cmd_prefix": "del ",
     "library": "var_list.py",
     "varRefreshCmd": "print(var_dic_list())"
    },
    "r": {
     "delete_cmd_postfix": ") ",
     "delete_cmd_prefix": "rm(",
     "library": "var_list.r",
     "varRefreshCmd": "cat(var_dic_list()) "
    }
   },
   "types_to_exclude": [
    "module",
    "function",
    "builtin_function_or_method",
    "instance",
    "_Feature"
   ],
   "window_display": false
  }
 },
 "nbformat": 4,
 "nbformat_minor": 5
}
